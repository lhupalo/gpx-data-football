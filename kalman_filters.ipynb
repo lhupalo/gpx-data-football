{
 "cells": [
  {
   "cell_type": "code",
   "execution_count": 7,
   "metadata": {},
   "outputs": [],
   "source": [
    "import gpxpy\n",
    "import pandas as pd\n",
    "import numpy as np\n",
    "from numpy.linalg import inv\n",
    "import matplotlib.pyplot as plt"
   ]
  },
  {
   "cell_type": "markdown",
   "metadata": {},
   "source": [
    "# Filtro de Kalman para dados de GPS (extensão .gpx)\n",
    "\n",
    "Os dados usados aqui são obtidos através de exportação no site da Garmin. Acredito que via Strava também é possível."
   ]
  },
  {
   "cell_type": "code",
   "execution_count": 88,
   "metadata": {},
   "outputs": [],
   "source": [
    "def readData(url):\n",
    "    with open(url) as fh:\n",
    "        gpx_file = gpxpy.parse(fh)\n",
    "\n",
    "    segment = gpx_file.tracks[0].segments[0]\n",
    "    coords = pd.DataFrame([{'lat': p.latitude, \n",
    "                            'lon': p.longitude, \n",
    "                            'ele': p.elevation,\n",
    "                            'time': p.time} for p in segment.points])\n",
    "    coords.set_index('time', drop=True, inplace=True)\n",
    "\n",
    "    start_time, end_time = segment.get_time_bounds()\n",
    "    duration = end_time - start_time\n",
    "\n",
    "    segment.points[0].speed = 0.0\n",
    "    segment.points[-1].speed = 0.0\n",
    "    gpx_file.add_missing_speeds()\n",
    "\n",
    "    coords['speed'] = [p.speed for p in segment.points]\n",
    "    coords['speed'] *= 3.6\n",
    "\n",
    "    coords.index = (coords.index - coords.index[0]).total_seconds()\n",
    "    \n",
    "    return coords"
   ]
  },
  {
   "cell_type": "code",
   "execution_count": 158,
   "metadata": {},
   "outputs": [
    {
     "data": {
      "text/html": [
       "<div>\n",
       "<style scoped>\n",
       "    .dataframe tbody tr th:only-of-type {\n",
       "        vertical-align: middle;\n",
       "    }\n",
       "\n",
       "    .dataframe tbody tr th {\n",
       "        vertical-align: top;\n",
       "    }\n",
       "\n",
       "    .dataframe thead th {\n",
       "        text-align: right;\n",
       "    }\n",
       "</style>\n",
       "<table border=\"1\" class=\"dataframe\">\n",
       "  <thead>\n",
       "    <tr style=\"text-align: right;\">\n",
       "      <th></th>\n",
       "      <th>lat</th>\n",
       "      <th>lon</th>\n",
       "      <th>ele</th>\n",
       "      <th>speed</th>\n",
       "    </tr>\n",
       "    <tr>\n",
       "      <th>time</th>\n",
       "      <th></th>\n",
       "      <th></th>\n",
       "      <th></th>\n",
       "      <th></th>\n",
       "    </tr>\n",
       "  </thead>\n",
       "  <tbody>\n",
       "    <tr>\n",
       "      <th>0.0</th>\n",
       "      <td>-27.060759</td>\n",
       "      <td>-51.193396</td>\n",
       "      <td>770.599976</td>\n",
       "      <td>0.000000</td>\n",
       "    </tr>\n",
       "    <tr>\n",
       "      <th>1.0</th>\n",
       "      <td>-27.060759</td>\n",
       "      <td>-51.193393</td>\n",
       "      <td>770.599976</td>\n",
       "      <td>1.166613</td>\n",
       "    </tr>\n",
       "    <tr>\n",
       "      <th>2.0</th>\n",
       "      <td>-27.060759</td>\n",
       "      <td>-51.193390</td>\n",
       "      <td>770.599976</td>\n",
       "      <td>1.897273</td>\n",
       "    </tr>\n",
       "    <tr>\n",
       "      <th>3.0</th>\n",
       "      <td>-27.060757</td>\n",
       "      <td>-51.193383</td>\n",
       "      <td>770.599976</td>\n",
       "      <td>4.703419</td>\n",
       "    </tr>\n",
       "    <tr>\n",
       "      <th>4.0</th>\n",
       "      <td>-27.060753</td>\n",
       "      <td>-51.193364</td>\n",
       "      <td>770.799988</td>\n",
       "      <td>6.394993</td>\n",
       "    </tr>\n",
       "  </tbody>\n",
       "</table>\n",
       "</div>"
      ],
      "text/plain": [
       "            lat        lon         ele     speed\n",
       "time                                            \n",
       "0.0  -27.060759 -51.193396  770.599976  0.000000\n",
       "1.0  -27.060759 -51.193393  770.599976  1.166613\n",
       "2.0  -27.060759 -51.193390  770.599976  1.897273\n",
       "3.0  -27.060757 -51.193383  770.599976  4.703419\n",
       "4.0  -27.060753 -51.193364  770.799988  6.394993"
      ]
     },
     "execution_count": 158,
     "metadata": {},
     "output_type": "execute_result"
    }
   ],
   "source": [
    "coords = readData('./../activity_12412886281.gpx')\n",
    "\n",
    "all_indexes = np.arange(0,len(coords.index),1)\n",
    "idx_stopped = np.setdiff1d(all_indexes,coords.index)\n",
    "\n",
    "idx_stopped_new = []\n",
    "for i in range(len(idx_stopped)-1):\n",
    "\n",
    "    if ((idx_stopped[i] + 1) == idx_stopped[i+1]):\n",
    "        idx_stopped_new.append(idx_stopped[i])\n",
    "\n",
    "        if (i == len(idx_stopped) - 1):\n",
    "            idx_stopped_new.append(idx_stopped_new[i+1])\n",
    "\n",
    "new_coords = coords.reindex(np.asarray(idx_stopped_new), fill_value = -1)\n",
    "\n",
    "coords = pd.concat([coords, new_coords])\n",
    "coords = coords.sort_index()\n",
    "coords.head()"
   ]
  },
  {
   "cell_type": "code",
   "execution_count": 159,
   "metadata": {},
   "outputs": [
    {
     "data": {
      "text/html": [
       "<div>\n",
       "<style scoped>\n",
       "    .dataframe tbody tr th:only-of-type {\n",
       "        vertical-align: middle;\n",
       "    }\n",
       "\n",
       "    .dataframe tbody tr th {\n",
       "        vertical-align: top;\n",
       "    }\n",
       "\n",
       "    .dataframe thead th {\n",
       "        text-align: right;\n",
       "    }\n",
       "</style>\n",
       "<table border=\"1\" class=\"dataframe\">\n",
       "  <thead>\n",
       "    <tr style=\"text-align: right;\">\n",
       "      <th></th>\n",
       "      <th>lat</th>\n",
       "      <th>lon</th>\n",
       "      <th>ele</th>\n",
       "      <th>speed</th>\n",
       "    </tr>\n",
       "    <tr>\n",
       "      <th>time</th>\n",
       "      <th></th>\n",
       "      <th></th>\n",
       "      <th></th>\n",
       "      <th></th>\n",
       "    </tr>\n",
       "  </thead>\n",
       "  <tbody>\n",
       "    <tr>\n",
       "      <th>2231.0</th>\n",
       "      <td>-1.0</td>\n",
       "      <td>-1.0</td>\n",
       "      <td>-1.0</td>\n",
       "      <td>-1.0</td>\n",
       "    </tr>\n",
       "    <tr>\n",
       "      <th>2232.0</th>\n",
       "      <td>-1.0</td>\n",
       "      <td>-1.0</td>\n",
       "      <td>-1.0</td>\n",
       "      <td>-1.0</td>\n",
       "    </tr>\n",
       "    <tr>\n",
       "      <th>2233.0</th>\n",
       "      <td>-1.0</td>\n",
       "      <td>-1.0</td>\n",
       "      <td>-1.0</td>\n",
       "      <td>-1.0</td>\n",
       "    </tr>\n",
       "    <tr>\n",
       "      <th>2234.0</th>\n",
       "      <td>-1.0</td>\n",
       "      <td>-1.0</td>\n",
       "      <td>-1.0</td>\n",
       "      <td>-1.0</td>\n",
       "    </tr>\n",
       "    <tr>\n",
       "      <th>2235.0</th>\n",
       "      <td>-1.0</td>\n",
       "      <td>-1.0</td>\n",
       "      <td>-1.0</td>\n",
       "      <td>-1.0</td>\n",
       "    </tr>\n",
       "    <tr>\n",
       "      <th>...</th>\n",
       "      <td>...</td>\n",
       "      <td>...</td>\n",
       "      <td>...</td>\n",
       "      <td>...</td>\n",
       "    </tr>\n",
       "    <tr>\n",
       "      <th>3536.0</th>\n",
       "      <td>-1.0</td>\n",
       "      <td>-1.0</td>\n",
       "      <td>-1.0</td>\n",
       "      <td>-1.0</td>\n",
       "    </tr>\n",
       "    <tr>\n",
       "      <th>3537.0</th>\n",
       "      <td>-1.0</td>\n",
       "      <td>-1.0</td>\n",
       "      <td>-1.0</td>\n",
       "      <td>-1.0</td>\n",
       "    </tr>\n",
       "    <tr>\n",
       "      <th>3538.0</th>\n",
       "      <td>-1.0</td>\n",
       "      <td>-1.0</td>\n",
       "      <td>-1.0</td>\n",
       "      <td>-1.0</td>\n",
       "    </tr>\n",
       "    <tr>\n",
       "      <th>3539.0</th>\n",
       "      <td>-1.0</td>\n",
       "      <td>-1.0</td>\n",
       "      <td>-1.0</td>\n",
       "      <td>-1.0</td>\n",
       "    </tr>\n",
       "    <tr>\n",
       "      <th>3540.0</th>\n",
       "      <td>-1.0</td>\n",
       "      <td>-1.0</td>\n",
       "      <td>-1.0</td>\n",
       "      <td>-1.0</td>\n",
       "    </tr>\n",
       "  </tbody>\n",
       "</table>\n",
       "<p>1310 rows × 4 columns</p>\n",
       "</div>"
      ],
      "text/plain": [
       "        lat  lon  ele  speed\n",
       "time                        \n",
       "2231.0 -1.0 -1.0 -1.0   -1.0\n",
       "2232.0 -1.0 -1.0 -1.0   -1.0\n",
       "2233.0 -1.0 -1.0 -1.0   -1.0\n",
       "2234.0 -1.0 -1.0 -1.0   -1.0\n",
       "2235.0 -1.0 -1.0 -1.0   -1.0\n",
       "...     ...  ...  ...    ...\n",
       "3536.0 -1.0 -1.0 -1.0   -1.0\n",
       "3537.0 -1.0 -1.0 -1.0   -1.0\n",
       "3538.0 -1.0 -1.0 -1.0   -1.0\n",
       "3539.0 -1.0 -1.0 -1.0   -1.0\n",
       "3540.0 -1.0 -1.0 -1.0   -1.0\n",
       "\n",
       "[1310 rows x 4 columns]"
      ]
     },
     "execution_count": 159,
     "metadata": {},
     "output_type": "execute_result"
    }
   ],
   "source": [
    "coords.loc[coords['speed'] == -1]"
   ]
  },
  {
   "cell_type": "code",
   "execution_count": 152,
   "metadata": {},
   "outputs": [],
   "source": [
    "all_indexes = np.arange(0,len(coords.index),1)\n",
    "missing_values = np.setdiff1d(all_indexes,coords.index)"
   ]
  },
  {
   "cell_type": "code",
   "execution_count": 153,
   "metadata": {},
   "outputs": [
    {
     "data": {
      "text/plain": [
       "array([1321, 2231, 2232, ..., 3539, 3540, 3541])"
      ]
     },
     "execution_count": 153,
     "metadata": {},
     "output_type": "execute_result"
    }
   ],
   "source": [
    "missing_values"
   ]
  },
  {
   "cell_type": "code",
   "execution_count": 151,
   "metadata": {},
   "outputs": [
    {
     "data": {
      "text/plain": [
       "[<matplotlib.lines.Line2D at 0x7f0f3fd4bee0>]"
      ]
     },
     "execution_count": 151,
     "metadata": {},
     "output_type": "execute_result"
    },
    {
     "data": {
      "image/png": "[encoded data removed]",
      "text/plain": [
       "<Figure size 640x480 with 1 Axes>"
      ]
     },
     "metadata": {},
     "output_type": "display_data"
    }
   ],
   "source": [
    "plt.plot(coords.index)"
   ]
  },
  {
   "cell_type": "code",
   "execution_count": 149,
   "metadata": {},
   "outputs": [
    {
     "data": {
      "text/plain": [
       "[<matplotlib.lines.Line2D at 0x7f0f3ff23490>]"
      ]
     },
     "execution_count": 149,
     "metadata": {},
     "output_type": "execute_result"
    },
    {
     "data": {
      "image/png": "[encoded data removed]",
      "text/plain": [
       "<Figure size 640x480 with 1 Axes>"
      ]
     },
     "metadata": {},
     "output_type": "display_data"
    }
   ],
   "source": [
    "plt.plot(idx_stopped)"
   ]
  },
  {
   "cell_type": "code",
   "execution_count": 142,
   "metadata": {},
   "outputs": [
    {
     "data": {
      "text/html": [
       "<div>\n",
       "<style scoped>\n",
       "    .dataframe tbody tr th:only-of-type {\n",
       "        vertical-align: middle;\n",
       "    }\n",
       "\n",
       "    .dataframe tbody tr th {\n",
       "        vertical-align: top;\n",
       "    }\n",
       "\n",
       "    .dataframe thead th {\n",
       "        text-align: right;\n",
       "    }\n",
       "</style>\n",
       "<table border=\"1\" class=\"dataframe\">\n",
       "  <thead>\n",
       "    <tr style=\"text-align: right;\">\n",
       "      <th></th>\n",
       "      <th>lat</th>\n",
       "      <th>lon</th>\n",
       "      <th>ele</th>\n",
       "      <th>speed</th>\n",
       "    </tr>\n",
       "    <tr>\n",
       "      <th>time</th>\n",
       "      <th></th>\n",
       "      <th></th>\n",
       "      <th></th>\n",
       "      <th></th>\n",
       "    </tr>\n",
       "  </thead>\n",
       "  <tbody>\n",
       "    <tr>\n",
       "      <th>2231.0</th>\n",
       "      <td>-1.0</td>\n",
       "      <td>-1.0</td>\n",
       "      <td>-1.0</td>\n",
       "      <td>-1.0</td>\n",
       "    </tr>\n",
       "    <tr>\n",
       "      <th>2232.0</th>\n",
       "      <td>-1.0</td>\n",
       "      <td>-1.0</td>\n",
       "      <td>-1.0</td>\n",
       "      <td>-1.0</td>\n",
       "    </tr>\n",
       "    <tr>\n",
       "      <th>2233.0</th>\n",
       "      <td>-1.0</td>\n",
       "      <td>-1.0</td>\n",
       "      <td>-1.0</td>\n",
       "      <td>-1.0</td>\n",
       "    </tr>\n",
       "    <tr>\n",
       "      <th>2234.0</th>\n",
       "      <td>-1.0</td>\n",
       "      <td>-1.0</td>\n",
       "      <td>-1.0</td>\n",
       "      <td>-1.0</td>\n",
       "    </tr>\n",
       "    <tr>\n",
       "      <th>2235.0</th>\n",
       "      <td>-1.0</td>\n",
       "      <td>-1.0</td>\n",
       "      <td>-1.0</td>\n",
       "      <td>-1.0</td>\n",
       "    </tr>\n",
       "    <tr>\n",
       "      <th>...</th>\n",
       "      <td>...</td>\n",
       "      <td>...</td>\n",
       "      <td>...</td>\n",
       "      <td>...</td>\n",
       "    </tr>\n",
       "    <tr>\n",
       "      <th>3536.0</th>\n",
       "      <td>-1.0</td>\n",
       "      <td>-1.0</td>\n",
       "      <td>-1.0</td>\n",
       "      <td>-1.0</td>\n",
       "    </tr>\n",
       "    <tr>\n",
       "      <th>3537.0</th>\n",
       "      <td>-1.0</td>\n",
       "      <td>-1.0</td>\n",
       "      <td>-1.0</td>\n",
       "      <td>-1.0</td>\n",
       "    </tr>\n",
       "    <tr>\n",
       "      <th>3538.0</th>\n",
       "      <td>-1.0</td>\n",
       "      <td>-1.0</td>\n",
       "      <td>-1.0</td>\n",
       "      <td>-1.0</td>\n",
       "    </tr>\n",
       "    <tr>\n",
       "      <th>3539.0</th>\n",
       "      <td>-1.0</td>\n",
       "      <td>-1.0</td>\n",
       "      <td>-1.0</td>\n",
       "      <td>-1.0</td>\n",
       "    </tr>\n",
       "    <tr>\n",
       "      <th>3540.0</th>\n",
       "      <td>-1.0</td>\n",
       "      <td>-1.0</td>\n",
       "      <td>-1.0</td>\n",
       "      <td>-1.0</td>\n",
       "    </tr>\n",
       "  </tbody>\n",
       "</table>\n",
       "<p>1310 rows × 4 columns</p>\n",
       "</div>"
      ],
      "text/plain": [
       "        lat  lon  ele  speed\n",
       "time                        \n",
       "2231.0 -1.0 -1.0 -1.0   -1.0\n",
       "2232.0 -1.0 -1.0 -1.0   -1.0\n",
       "2233.0 -1.0 -1.0 -1.0   -1.0\n",
       "2234.0 -1.0 -1.0 -1.0   -1.0\n",
       "2235.0 -1.0 -1.0 -1.0   -1.0\n",
       "...     ...  ...  ...    ...\n",
       "3536.0 -1.0 -1.0 -1.0   -1.0\n",
       "3537.0 -1.0 -1.0 -1.0   -1.0\n",
       "3538.0 -1.0 -1.0 -1.0   -1.0\n",
       "3539.0 -1.0 -1.0 -1.0   -1.0\n",
       "3540.0 -1.0 -1.0 -1.0   -1.0\n",
       "\n",
       "[1310 rows x 4 columns]"
      ]
     },
     "execution_count": 142,
     "metadata": {},
     "output_type": "execute_result"
    }
   ],
   "source": [
    "coords.loc[coords['speed'] == -1]"
   ]
  },
  {
   "cell_type": "code",
   "execution_count": 143,
   "metadata": {},
   "outputs": [],
   "source": [
    "gps_data = np.asarray([coords['lat'], coords['lon']])\n",
    "gps_data = gps_data.T"
   ]
  },
  {
   "cell_type": "markdown",
   "metadata": {},
   "source": [
    "Os dados estão no formato (latitude, longitude). Com base nestes dois valores medidos para cada instante de tempo com periodicidade de 1 Hz (1 segundo), serão estimados as posições e as velocidades através do Filtro de Kalman linear."
   ]
  },
  {
   "cell_type": "code",
   "execution_count": 144,
   "metadata": {},
   "outputs": [
    {
     "ename": "KeyError",
     "evalue": "0",
     "output_type": "error",
     "traceback": [
      "\u001b[0;31m---------------------------------------------------------------------------\u001b[0m",
      "\u001b[0;31mKeyError\u001b[0m                                  Traceback (most recent call last)",
      "File \u001b[0;32m~/repos/gpx-data-football/gpx_env/lib/python3.8/site-packages/pandas/core/indexes/base.py:3653\u001b[0m, in \u001b[0;36mIndex.get_loc\u001b[0;34m(self, key)\u001b[0m\n\u001b[1;32m   3652\u001b[0m \u001b[39mtry\u001b[39;00m:\n\u001b[0;32m-> 3653\u001b[0m     \u001b[39mreturn\u001b[39;00m \u001b[39mself\u001b[39;49m\u001b[39m.\u001b[39;49m_engine\u001b[39m.\u001b[39;49mget_loc(casted_key)\n\u001b[1;32m   3654\u001b[0m \u001b[39mexcept\u001b[39;00m \u001b[39mKeyError\u001b[39;00m \u001b[39mas\u001b[39;00m err:\n",
      "File \u001b[0;32m~/repos/gpx-data-football/gpx_env/lib/python3.8/site-packages/pandas/_libs/index.pyx:147\u001b[0m, in \u001b[0;36mpandas._libs.index.IndexEngine.get_loc\u001b[0;34m()\u001b[0m\n",
      "File \u001b[0;32m~/repos/gpx-data-football/gpx_env/lib/python3.8/site-packages/pandas/_libs/index.pyx:176\u001b[0m, in \u001b[0;36mpandas._libs.index.IndexEngine.get_loc\u001b[0;34m()\u001b[0m\n",
      "File \u001b[0;32mpandas/_libs/hashtable_class_helper.pxi:1698\u001b[0m, in \u001b[0;36mpandas._libs.hashtable.Float64HashTable.get_item\u001b[0;34m()\u001b[0m\n",
      "File \u001b[0;32mpandas/_libs/hashtable_class_helper.pxi:1722\u001b[0m, in \u001b[0;36mpandas._libs.hashtable.Float64HashTable.get_item\u001b[0;34m()\u001b[0m\n",
      "\u001b[0;31mKeyError\u001b[0m: 0.0",
      "\nThe above exception was the direct cause of the following exception:\n",
      "\u001b[0;31mKeyError\u001b[0m                                  Traceback (most recent call last)",
      "\u001b[1;32m/home/lzhpl/repos/gpx-data-football/kalman_filters.ipynb Cell 10\u001b[0m line \u001b[0;36m4\n\u001b[1;32m     <a href='vscode-notebook-cell:/home/lzhpl/repos/gpx-data-football/kalman_filters.ipynb#W4sZmlsZQ%3D%3D?line=41'>42</a>\u001b[0m measurement_noise \u001b[39m=\u001b[39m np\u001b[39m.\u001b[39meye(\u001b[39m2\u001b[39m) \u001b[39m*\u001b[39m measurement_noise_variance\n\u001b[1;32m     <a href='vscode-notebook-cell:/home/lzhpl/repos/gpx-data-football/kalman_filters.ipynb#W4sZmlsZQ%3D%3D?line=43'>44</a>\u001b[0m \u001b[39m# Condição inicial: [x, y, vx, vy]\u001b[39;00m\n\u001b[1;32m     <a href='vscode-notebook-cell:/home/lzhpl/repos/gpx-data-football/kalman_filters.ipynb#W4sZmlsZQ%3D%3D?line=44'>45</a>\u001b[0m \u001b[39m# initial_state = np.array([0, 0, 0, 0])\u001b[39;00m\n\u001b[0;32m---> <a href='vscode-notebook-cell:/home/lzhpl/repos/gpx-data-football/kalman_filters.ipynb#W4sZmlsZQ%3D%3D?line=45'>46</a>\u001b[0m initial_state \u001b[39m=\u001b[39m np\u001b[39m.\u001b[39marray([coords[\u001b[39m'\u001b[39;49m\u001b[39mlat\u001b[39;49m\u001b[39m'\u001b[39;49m][\u001b[39m0\u001b[39;49m], coords[\u001b[39m'\u001b[39m\u001b[39mlon\u001b[39m\u001b[39m'\u001b[39m][\u001b[39m0\u001b[39m], \u001b[39m0\u001b[39m, \u001b[39m0\u001b[39m])\n\u001b[1;32m     <a href='vscode-notebook-cell:/home/lzhpl/repos/gpx-data-football/kalman_filters.ipynb#W4sZmlsZQ%3D%3D?line=47'>48</a>\u001b[0m \u001b[39m# Covariância inicial (ajuste conforme necessário)\u001b[39;00m\n\u001b[1;32m     <a href='vscode-notebook-cell:/home/lzhpl/repos/gpx-data-football/kalman_filters.ipynb#W4sZmlsZQ%3D%3D?line=48'>49</a>\u001b[0m initial_covariance \u001b[39m=\u001b[39m np\u001b[39m.\u001b[39meye(\u001b[39m4\u001b[39m)\n",
      "File \u001b[0;32m~/repos/gpx-data-football/gpx_env/lib/python3.8/site-packages/pandas/core/series.py:1007\u001b[0m, in \u001b[0;36mSeries.__getitem__\u001b[0;34m(self, key)\u001b[0m\n\u001b[1;32m   1004\u001b[0m     \u001b[39mreturn\u001b[39;00m \u001b[39mself\u001b[39m\u001b[39m.\u001b[39m_values[key]\n\u001b[1;32m   1006\u001b[0m \u001b[39melif\u001b[39;00m key_is_scalar:\n\u001b[0;32m-> 1007\u001b[0m     \u001b[39mreturn\u001b[39;00m \u001b[39mself\u001b[39;49m\u001b[39m.\u001b[39;49m_get_value(key)\n\u001b[1;32m   1009\u001b[0m \u001b[39mif\u001b[39;00m is_hashable(key):\n\u001b[1;32m   1010\u001b[0m     \u001b[39m# Otherwise index.get_value will raise InvalidIndexError\u001b[39;00m\n\u001b[1;32m   1011\u001b[0m     \u001b[39mtry\u001b[39;00m:\n\u001b[1;32m   1012\u001b[0m         \u001b[39m# For labels that don't resolve as scalars like tuples and frozensets\u001b[39;00m\n",
      "File \u001b[0;32m~/repos/gpx-data-football/gpx_env/lib/python3.8/site-packages/pandas/core/series.py:1116\u001b[0m, in \u001b[0;36mSeries._get_value\u001b[0;34m(self, label, takeable)\u001b[0m\n\u001b[1;32m   1113\u001b[0m     \u001b[39mreturn\u001b[39;00m \u001b[39mself\u001b[39m\u001b[39m.\u001b[39m_values[label]\n\u001b[1;32m   1115\u001b[0m \u001b[39m# Similar to Index.get_value, but we do not fall back to positional\u001b[39;00m\n\u001b[0;32m-> 1116\u001b[0m loc \u001b[39m=\u001b[39m \u001b[39mself\u001b[39;49m\u001b[39m.\u001b[39;49mindex\u001b[39m.\u001b[39;49mget_loc(label)\n\u001b[1;32m   1118\u001b[0m \u001b[39mif\u001b[39;00m is_integer(loc):\n\u001b[1;32m   1119\u001b[0m     \u001b[39mreturn\u001b[39;00m \u001b[39mself\u001b[39m\u001b[39m.\u001b[39m_values[loc]\n",
      "File \u001b[0;32m~/repos/gpx-data-football/gpx_env/lib/python3.8/site-packages/pandas/core/indexes/base.py:3655\u001b[0m, in \u001b[0;36mIndex.get_loc\u001b[0;34m(self, key)\u001b[0m\n\u001b[1;32m   3653\u001b[0m     \u001b[39mreturn\u001b[39;00m \u001b[39mself\u001b[39m\u001b[39m.\u001b[39m_engine\u001b[39m.\u001b[39mget_loc(casted_key)\n\u001b[1;32m   3654\u001b[0m \u001b[39mexcept\u001b[39;00m \u001b[39mKeyError\u001b[39;00m \u001b[39mas\u001b[39;00m err:\n\u001b[0;32m-> 3655\u001b[0m     \u001b[39mraise\u001b[39;00m \u001b[39mKeyError\u001b[39;00m(key) \u001b[39mfrom\u001b[39;00m \u001b[39merr\u001b[39;00m\n\u001b[1;32m   3656\u001b[0m \u001b[39mexcept\u001b[39;00m \u001b[39mTypeError\u001b[39;00m:\n\u001b[1;32m   3657\u001b[0m     \u001b[39m# If we have a listlike key, _check_indexing_error will raise\u001b[39;00m\n\u001b[1;32m   3658\u001b[0m     \u001b[39m#  InvalidIndexError. Otherwise we fall through and re-raise\u001b[39;00m\n\u001b[1;32m   3659\u001b[0m     \u001b[39m#  the TypeError.\u001b[39;00m\n\u001b[1;32m   3660\u001b[0m     \u001b[39mself\u001b[39m\u001b[39m.\u001b[39m_check_indexing_error(key)\n",
      "\u001b[0;31mKeyError\u001b[0m: 0"
     ]
    }
   ],
   "source": [
    "# Função para inicializar o filtro de Kalman\n",
    "def initialize_kalman_filter(initial_state, initial_covariance):\n",
    "    state = initial_state\n",
    "    covariance = initial_covariance\n",
    "    return state, covariance\n",
    "\n",
    "# Função para atualizar o filtro de Kalman com base nas novas observações de GPS\n",
    "def update_kalman_filter(state, covariance, observation, process_noise, measurement_noise):\n",
    "    \n",
    "    state_predict = np.dot(A, state)\n",
    "    covariance_predict = np.dot(np.dot(A, covariance), A.T) + process_noise\n",
    "    \n",
    "    # Ganho de Kalman:\n",
    "    # \n",
    "    # K = PH'(HPH'+R)^(-1)\n",
    "    kalman_gain = np.dot(np.dot(covariance_predict, H.T), np.linalg.inv(np.dot(np.dot(H, covariance_predict), H.T) + measurement_noise))\n",
    "    \n",
    "    # Atualização do estado e da covariância\n",
    "    state_update = state_predict + np.dot(kalman_gain, (observation - np.dot(H, state_predict)))\n",
    "    covariance_update = np.dot((np.eye(len(state)) - np.dot(kalman_gain, H)), covariance_predict)\n",
    "    \n",
    "    return state_update, covariance_update\n",
    "\n",
    "# Parâmetros do sistema\n",
    "dt = 1.0  # Intervalo de tempo entre as observações (em segundos)\n",
    "\n",
    "# Matrizes do modelo do sistema\n",
    "A = np.array([[1, 0, dt, 0],\n",
    "              [0, 1, 0, dt],\n",
    "              [0, 0, 1, 0],\n",
    "              [0, 0, 0, 1]])\n",
    "\n",
    "H = np.array([[1, 0, 0, 0],\n",
    "              [0, 1, 0, 0]])\n",
    "\n",
    "# Variâncias do ruído do processo e de medição\n",
    "process_noise_variance = 0.01  # Variância do ruído do processo (ajuste conforme necessário)\n",
    "measurement_noise_variance = 0.1  # Variância do ruído de medição (ajuste conforme necessário)\n",
    "\n",
    "# Matrizes de covariância do ruído do processo e de medição\n",
    "process_noise = np.eye(4) * process_noise_variance\n",
    "measurement_noise = np.eye(2) * measurement_noise_variance\n",
    "\n",
    "# Condição inicial: [x, y, vx, vy]\n",
    "# initial_state = np.array([0, 0, 0, 0])\n",
    "initial_state = np.array([coords['lat'][0], coords['lon'][0], 0, 0])\n",
    "\n",
    "# Covariância inicial (ajuste conforme necessário)\n",
    "initial_covariance = np.eye(4)\n",
    "\n",
    "# Inicialização do filtro de Kalman\n",
    "estimated_state, estimated_covariance = initialize_kalman_filter(initial_state, initial_covariance)\n",
    "\n",
    "# Atualização do filtro de Kalman com dados de GPS\n",
    "filtered_data = []\n",
    "for observation in gps_data:\n",
    "    estimated_state, estimated_covariance = update_kalman_filter(estimated_state, estimated_covariance, observation, process_noise, measurement_noise)\n",
    "\n",
    "    filtered_data.append(estimated_state)\n",
    "\n",
    "filtered_data = np.asarray(filtered_data)\n",
    "filtered_speeds_components = filtered_data[:,2:]*111.11e3*3.6\n",
    "filtered_speeds_scalar = np.sqrt(np.square(filtered_speeds_components[:,0]) + np.square(filtered_speeds_components[:,1]))\n",
    "\n",
    "original_speeds_scalar = np.asarray(coords['speed'])"
   ]
  },
  {
   "cell_type": "code",
   "execution_count": 116,
   "metadata": {},
   "outputs": [],
   "source": [
    "idx_stopped = np.where(original_speeds_scalar == -1)[0]\n",
    "\n",
    "filtered_speeds_scalar[idx_stopped] = 0\n",
    "original_speeds_scalar[idx_stopped] = 0"
   ]
  },
  {
   "cell_type": "code",
   "execution_count": 95,
   "metadata": {},
   "outputs": [
    {
     "data": {
      "text/plain": [
       "(5144,)"
      ]
     },
     "execution_count": 95,
     "metadata": {},
     "output_type": "execute_result"
    }
   ],
   "source": [
    "filtered_speeds_scalar.shape"
   ]
  },
  {
   "cell_type": "code",
   "execution_count": 96,
   "metadata": {},
   "outputs": [
    {
     "data": {
      "text/plain": [
       "(5144,)"
      ]
     },
     "execution_count": 96,
     "metadata": {},
     "output_type": "execute_result"
    }
   ],
   "source": [
    "np.asarray(coords['speed']).shape"
   ]
  },
  {
   "cell_type": "code",
   "execution_count": 117,
   "metadata": {},
   "outputs": [
    {
     "data": {
      "text/plain": [
       "<matplotlib.legend.Legend at 0x7f0f45408400>"
      ]
     },
     "execution_count": 117,
     "metadata": {},
     "output_type": "execute_result"
    },
    {
     "data": {
      "image/png": "[encoded data removed]",
      "text/plain": [
       "<Figure size 640x480 with 1 Axes>"
      ]
     },
     "metadata": {},
     "output_type": "display_data"
    }
   ],
   "source": [
    "plt.title('Resultado da filtragem na velocidade')\n",
    "plt.plot(np.asarray(coords['speed'][1300:1350]),color='red',label='Original')\n",
    "plt.plot(filtered_speeds_scalar[1300:1350],color='blue',label='Filtrado')\n",
    "plt.legend()"
   ]
  },
  {
   "cell_type": "code",
   "execution_count": 122,
   "metadata": {},
   "outputs": [
    {
     "data": {
      "text/plain": [
       "[<matplotlib.lines.Line2D at 0x7f0f45817a60>]"
      ]
     },
     "execution_count": 122,
     "metadata": {},
     "output_type": "execute_result"
    },
    {
     "data": {
      "image/png": "[encoded data removed]",
      "text/plain": [
       "<Figure size 640x480 with 1 Axes>"
      ]
     },
     "metadata": {},
     "output_type": "display_data"
    }
   ],
   "source": [
    "plt.plot(original_speeds_scalar[2000:2500])"
   ]
  },
  {
   "cell_type": "code",
   "execution_count": 98,
   "metadata": {},
   "outputs": [
    {
     "data": {
      "text/plain": [
       "[<matplotlib.lines.Line2D at 0x7f0f45516490>]"
      ]
     },
     "execution_count": 98,
     "metadata": {},
     "output_type": "execute_result"
    },
    {
     "data": {
      "image/png": "[encoded data removed]",
      "text/plain": [
       "<Figure size 640x480 with 1 Axes>"
      ]
     },
     "metadata": {},
     "output_type": "display_data"
    }
   ],
   "source": [
    "plt.plot(filtered_speeds_scalar - np.asarray(coords['speed']))"
   ]
  }
 ],
 "metadata": {
  "kernelspec": {
   "display_name": "gpx_env",
   "language": "python",
   "name": "python3"
  },
  "language_info": {
   "codemirror_mode": {
    "name": "ipython",
    "version": 3
   },
   "file_extension": ".py",
   "mimetype": "text/x-python",
   "name": "python",
   "nbconvert_exporter": "python",
   "pygments_lexer": "ipython3",
   "version": "3.8.10"
  }
 },
 "nbformat": 4,
 "nbformat_minor": 2
}
